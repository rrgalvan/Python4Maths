{
 "cells": [
  {
   "cell_type": "markdown",
   "metadata": {
    "deletable": true,
    "editable": true
   },
   "source": [
    "<small><small><i>\n",
    "Introduction to Python - available from https://gitlab.erc.monash.edu.au/andrease/Python4Maths.git\n",
    "\n",
    "The original version was written by Rajath Kumar and is available at https://github.com/rajathkumarmp/Python-Lectures.\n",
    "The notes have been updated for Python 3 and amended for use in Monash University mathematics courses by [Andreas Ernst](http://users.monash.edu.au/~andreas).\n",
    "\n",
    "Current version has been adapted to the [Master in Mathematics](http://masteres.ugr.es/doctomat/) of universities of Amería, Cádiz, Granada and Málaga by [J. Rafael Rodríguez Galván](http://rrgalvan.github.io) (University of Cádiz).\n",
    "</small></small></i>"
   ]
  },
  {
   "cell_type": "markdown",
   "metadata": {
    "deletable": true,
    "editable": true
   },
   "source": [
    "# Python-Lectures"
   ]
  },
  {
   "cell_type": "markdown",
   "metadata": {
    "deletable": true,
    "editable": true
   },
   "source": [
    "## Introduction\n",
    "\n",
    "Python is a modern, robust, high level programming language. It is very easy to pick up even if you are completely new to programming. \n",
    "\n",
    "Python, similar to other languages like matlab or R, is interpreted hence runs slowly compared to C++, Fortran or Java. However writing programs in Python is very quick. Python has a very large collection of libraries for everything from scientific computing to web services. It caters for object oriented and functional programming with module system that allows large and complex applications to be developed in Python. \n",
    "\n",
    "These lectures are using jupyter notebooks which mix Python code with documentation. The python notebooks can be run on a webserver or stand-alone on a computer.\n",
    "\n",
    "To give an indication of what Python code looks like, here is a simple bit of code that defines a set $N=\\{1,3,4,5,7\\}$ and calculates the sum of the squared elements of this set: $$\\sum_{i\\in N} i^2=100$$"
   ]
  },
  {
   "cell_type": "code",
   "execution_count": 3,
   "metadata": {
    "collapsed": false,
    "deletable": true,
    "editable": true
   },
   "outputs": [
    {
     "name": "stdout",
     "output_type": "stream",
     "text": [
      "The sum of ∑_i∈N i*i = 164\n"
     ]
    }
   ],
   "source": [
    "N={1,3,4,5,7,8}\n",
    "#print('The sum of ∑_i∈N i*i =',sum( i**2 for i in N ) )\n",
    "print('The sum of ∑_i∈N i*i =',sum( i**2 for i in N ) )"
   ]
  },
  {
   "cell_type": "markdown",
   "metadata": {
    "deletable": true,
    "editable": true
   },
   "source": [
    "## Contents\n",
    "\n",
    "This course is broken up into a number of notebooks (chapters).\n",
    "\n",
    "* [00](00.ipynb) This introduction with additional information below on how to get started in running python\n",
    "* [01](01.ipynb) Basic data types and operations (numbers, strings) \n",
    "* [02](02.ipynb) String manipulation \n",
    "* [03](03.ipynb) Data structures: Lists and Tuples\n",
    "* [04](04.ipynb) Data structures (continued): dictionaries\n",
    "* [05](05.ipynb) Control statements: if, for, while, try statements\n",
    "* [06](06.ipynb) Functions\n",
    "* [07](07.ipynb) Classes and basic object oriented programming\n",
    "* [08](08.ipynb) Numerical libraries for arrays (matrices), plotting and data analysis: Numpy, Scipy, Matplotlib, Pandas\n",
    "* [09](09.ipynb) Packages and environments for symbolic computing: Sympy, Sage\n",
    "* [10](10.ipynb) Extensions and final projects\n",
    "\n",
    "This is a tutorial style introduction to Python. For a quick reminder / summary of Python syntax the following [Quick Reference Card](http://www.cs.put.poznan.pl/csobaniec/software/python/py-qrc.html) may be useful. A longer and more detailed tutorial style introduction to python is available from the python site at: https://docs.python.org/3/tutorial/\n"
   ]
  },
  {
   "cell_type": "markdown",
   "metadata": {
    "deletable": true,
    "editable": true
   },
   "source": [
    "#  Sección 1. Python para matemáticas, ciencias, e ingeniería\n",
    "\n",
    "## ¿Qué es Python?\n",
    "\n",
    "Python es simplemente un *lenguaje de programación* interpretado[^1], con [1](#wikipedia_lenguaje_an_2018) unas características concretas que, como veremos, lo hacen *apropiado para una asignatura como Métodos Numéricos II*.\n",
    "\n",
    "El *intérprete* de Python tiene licencia libre[2], en particular puede descargarse y copiarse gratuitamente. Del mismo modo que muchos *entornos integrados* para el desarrollo de software usando este lenguaje.\n",
    "\n",
    "## ¿Cuáles son sus características?\n",
    "\n",
    "1. Es un lenguaje de **propósito general**[^3]. Es decir, orientado a la escritura de todo tipo de software, no solamente a un ámbito específico.\n",
    "\n",
    "2. Diseñado con énfasis en la **sencillez** del código y el *desarrollo rápido* de software.\n",
    "\n",
    "3. Con *características muy avanzadas*[^5] y con una enorme **cantidad de bibliotecas**[^6] para todo tipo de propósitos, algunas de ellas idóneas para el desarrollo de **software matemático** (Numpy, Scipy, Matplotlib, Pandas...).\n",
    "\n",
    "4. **Muy popular**: entre los programadores, para aplicaciones multipropósito[^4]. En particular, al ser fácilmente acoplable con otros lenguajes (C/C++, Fortran, etc.) constituye el lenguaje usual en interfaces de extensión y acceso rápido a programas y bibliotecas. Particularmente, en bibliotecas científicas de alto rendimiento."
   ]
  },
  {
   "cell_type": "markdown",
   "metadata": {
    "deletable": true,
    "editable": true
   },
   "source": [
    "# Sección 2. ¿Cómo instalar un entorno de Python Científico en mi ordenador?\n",
    "\n",
    "Nuestra idea es ambiciosa, pues no sólo deseamos instalar el intérprete de Python, sino **una\n",
    "distribución matemática/científica de Python** que se adapte a nuestras necesidades es decir que integre:\n",
    "\n",
    "* El intérprete Python\n",
    "\n",
    "* Un editor o un entorno de desarrollo adecuado\n",
    "\n",
    "* Las bibliotecas científicas que deseemos utilizar en nuestra área de interés: *simulación numérica*, *estadística*, *cálulo simbólico*, *tratamiento de datos*,...\n",
    "\n",
    "Para ello, existen distintas posibilidades, que agruparemos por sistemas operativos. Es importante subrayar que, en lo fundamental, todas estas distribuciones contienen *exactamente el mismo conjunto de software* que vamos a utilizar (python+bibliotecas+editores).  \n",
    "En algunos sistemas operativos, en especial en Windows, se suelen instalar distribuciones científicas que incluyen otros paquetes o entornos Python (muchos de los cuales, probablemente, no necesitaremos).\n",
    "\n",
    "### Software que utilizaremos\n",
    "\n",
    "El software básico consiste en: el intérprete Python 3 (es decir, versiones 3.x) junto a una serie de paquetes (también conocidos como bibliotecas o módulos) orientados a las matemáticas y a la ciencia (y que se describirán en próximas  secciones):\n",
    "\n",
    "* [Numpy](http://www.numpy.org/) Arrays\n",
    "* [Scipy](https://www.scipy.org/) Objetos matemáticos y científicos\n",
    "* [Matplotlib](https://matplotlib.org/) Gráficas\n",
    "* [Pandas](https://matplotlib.org/) Análisis de datos\n",
    "* [Sympy](www.sympy.org/) Cálculo simbólico\n",
    "\n",
    "\n",
    "Auque para programar en Python puede usarse cualquier editor, existen entornos de desarrollo especializados, entre ellos:\n",
    "\n",
    "* [Jupyter](http://jupyter.org/) Entorno integrado de tipo \"*notebook*\", similar a *Mathematica*. Este entorno está compuesto por celdas que pueden contener código Python o bien texto, fórmulas, imágenes etc. Se suelen utilizar para desarrollo ágil de programas cortos, incluyendo su salida (probablemente, gráfica), documentación, etc. Utilidad en docencia y en investigación [(reproducibilidad de la investigación)]( https://es.wikipedia.org/wiki/Reproducibilidad_y_repetibilidad).\n",
    "* [Spyder](https://github.com/spyder-ide) Editor especializado en Python con un aspecto similar al entorno *Matlab*. Por defecto, está orientado al desarroll tanto de programas cortos (llamados *scripts*) como programas complejos en Python (que podrían consistir en varios ficheros). Todos ellos suelen tener la extensión `.py`.\n",
    "\n",
    "### Entornos Windows\n",
    "\n",
    "\n",
    "* [Anaconda](https://anaconda.org/) Distribución muy completa.\n",
    " \n",
    "* [Python(x,y)](https://code.google.com/p/pythonxy/) Distribución muy completa.\n",
    "\n",
    "* [WinPython](http://winpython.sourceforge.net/)\n",
    "Versión menos completa pero más ligera.\n",
    "\n",
    "### Entornos Macintosh\n",
    "\n",
    "* [Anaconda](https://anaconda.org/) Distribución muy completa.\n",
    "\n",
    "### Entornos GNU/Linux\n",
    "\n",
    "* [Anaconda](https://anaconda.org/) Distribución muy completa.\n",
    "\n",
    "* En vez de todo Anaconda, se recomienda instalar solamente los paquetes que se vayan a utilizar. En estos sistemas es muy fácil, por ejemplo, usando el centro de software o la terminal:\n",
    "\n",
    "  Para instalar Python (versión 3, recomendada) junto a los paquetes Numpy,    Scipy, Matplotlib y Pandas y el editor Spider:\n",
    "  ~~~\n",
    "  apt-get update\n",
    "  apt-get install python3-numpy, python3-scipy, python3-matplotlib\n",
    "  apt-get install python3-pandas, spyder\n",
    "  ~~~\n",
    "\n",
    "  Para instalar el entorno Jupyter:\n",
    "  ~~~\n",
    "  apt-get install build-essential python3-dev\n",
    "  pip3 install --upgrade pip\n",
    "  pip3 install jupyter\n",
    "  ~~~"
   ]
  },
  {
   "cell_type": "markdown",
   "metadata": {
    "deletable": true,
    "editable": true
   },
   "source": [
    "# Sección 3. Jupyter Notebook\n",
    "\n",
    "### Qué es Jupyter Notebook\n",
    "\n",
    "Según [su página web](http://jupyter.org/):\n",
    "\n",
    "\"The Jupyter Notebook is an \n",
    "\n",
    "* open-source\n",
    "* web application (it runs on a web client)\n",
    "\n",
    "that allows you to \n",
    "\n",
    "* create and share **documents** that contain: \n",
    "\n",
    "    * live code (you can choose: *Python*, *R*, *Octave*, *Scala*,...),\n",
    "    * equations ($\\LaTeX$!),\n",
    "    * visualizations (*HTML*, *images*, *videos*) and\n",
    "    * narrative text (it uses *markdown*).\n",
    "\n",
    "Uses include: **data** cleaning and transformation, **numerical simulation**, **statistical modeling**, data **visualization**, machine learning, and much more.\"\n",
    "\n",
    "It is based on an enhanced Python kernel (and interactive shell) named [IPython](https://ipython.org/). Previous versions of Jupyter were just called *Ipython Notebook*.\n",
    "\n",
    "#### Remarks\n",
    "\n",
    "* Notebooks can be easiliy shared with others using email, Dropbox, GitHub and the [Jupyter Notebook Viewer](http://nbviewer.jupyter.org/)\n",
    "\n",
    "* Existe una [lista de lenguajes disponibles](https://github.com/jupyter/jupyter/wiki/Jupyter-kernels) para Jupyter, aunque algunos (especialmente los no libres, como Mathematica) son sólo pruebas de concepto\n",
    "\n",
    "### Conversión a otros formatos\n",
    "\n",
    "Para convertir un cuaderno Jupyter a otros formatos, se puede utilizar la opción `File -> Download as` (o, desde consola, la orden `jupyter-nbconvert`). Entre estos formatos se encuentran:\n",
    "\n",
    "* $\\LaTeX$\n",
    "* *HTML* (para publicar páginas web)\n",
    "* *Script* python (`.py`)\n",
    "\n",
    "Para la mayor parte de los formatos (como $\\LaTeX$ y *HTML*), es necesario tener instalado el excelente programa (con licencia libre [pandoc](https://pandoc.org/)). Más información en https://ipython.org/ipython-doc/1/interactive/nbconvert.html   "
   ]
  },
  {
   "cell_type": "markdown",
   "metadata": {
    "deletable": true,
    "editable": true
   },
   "source": [
    "## How to learn from this resource?\n",
    "\n",
    "* This resource is composed of different Notebooks, which can be [browsed using Jupyter NBViewer](https://nbviewer.jupyter.org/github/rrgalvan/Python4Maths/blob/master/Intro-to-Python/00.ipynb)\n",
    "\n",
    "* Also, they can be downloaded to a local folder and then edited with a local Jupyter Notebook environment. Download them as a *.zip* file (or using the *git* control version system) from Github at https://github.com/rrgalvan/Python4Maths\n"
   ]
  },
  {
   "cell_type": "markdown",
   "metadata": {},
   "source": [
    "### Bibliography \n",
    "\n",
    "There are a lot of interesting resources available in the web, most of them with a *free license*. For instance\n",
    "* [http://nbviewer.jupyter.org/github/jrjohansson/scientific-python-lectures/tree/master/](browse notebooks with NBviewer)"
   ]
  },
  {
   "cell_type": "markdown",
   "metadata": {
    "deletable": true,
    "editable": true
   },
   "source": [
    "## License\n",
    "This work is licensed under the Creative Commons Attribution 3.0 Unported License. To view a copy of this license, visit http://creativecommons.org/licenses/by/3.0/"
   ]
  }
 ],
 "metadata": {
  "kernelspec": {
   "display_name": "Python 3",
   "language": "python",
   "name": "python3"
  },
  "language_info": {
   "codemirror_mode": {
    "name": "ipython",
    "version": 3
   },
   "file_extension": ".py",
   "mimetype": "text/x-python",
   "name": "python",
   "nbconvert_exporter": "python",
   "pygments_lexer": "ipython3",
   "version": "3.5.2"
  }
 },
 "nbformat": 4,
 "nbformat_minor": 1
}
