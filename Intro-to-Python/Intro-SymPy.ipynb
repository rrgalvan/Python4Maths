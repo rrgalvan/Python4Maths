{
 "metadata": {
  "name": ""
 },
 "nbformat": 3,
 "nbformat_minor": 0,
 "worksheets": [
  {
   "cells": [
    {
     "cell_type": "heading",
     "level": 1,
     "metadata": {},
     "source": [
      "Breve introducci\u00f3n a Python simb\u00f3lico (paquete SymPy)"
     ]
    },
    {
     "cell_type": "heading",
     "level": 2,
     "metadata": {},
     "source": [
      "Introducci\u00f3n"
     ]
    },
    {
     "cell_type": "markdown",
     "metadata": {},
     "source": [
      "El paquete SymPy permite realizar en Python tareas como la manipulaci\u00f3n de expresiones matem\u00e1ticas, derivaci\u00f3n, etc. \n",
      "\n",
      "Procediendo como se indica a continuaci\u00f3n, podemos iniciar una sesion de SymPy adaptada a IPython Notebook. Por defecto, s\u00f3lo se cargar\u00e1n algunas variables simb\u00f3licas: \n",
      "\n",
      "* x, y, z, t, k, m y n: variables n\u00famericas, \n",
      "* f, g y h: nombres simb\u00f3licos para funciones funciones\n",
      "\n",
      "Si se necesita a\u00f1adir otras variables simb\u00f3licas se pueden usar, por ejemplo, las funciones `var` o `symbols`. Para m\u00e1s detalles, v\u00e9ase por ejemplo la [secci\u00f3n *basic operations*](http://docs.sympy.org/latest/tutorial/basic_operations.html) (localizada en el [tutorial de SymPy](http://docs.sympy.org/latest/tutorial)).\n",
      "\n",
      "A continuaci\u00f3n, se detalla c\u00f3mo activar el entorno simb\u00f3lico. Pero antes, una observaci\u00f3n importante: una vez se inicializa SymPy, el entorno simb\u00f3lico estar\u00e1 activado permanentemente (salvo que se reinicie el n\u00facleo). Por eso, si nuestro inter\u00e9s principal es el c\u00e1lculo num\u00e9rico en coma flotante, es una buena costumbre el utilizar SyPy en ficheros independientes, en los que exclusivamente se realicen tareas simb\u00f3licas (evitando posibles conflictos con paquetes num\u00e9ricos como *NumPy* o *Scipy*)."
     ]
    },
    {
     "cell_type": "heading",
     "level": 2,
     "metadata": {},
     "source": [
      "Activaci\u00f3n de SymPy y primeros ejemplos"
     ]
    },
    {
     "cell_type": "code",
     "collapsed": false,
     "input": [
      "import sympy # Cargar paquete de Python Simb\u00f3lico\n",
      "sympy.init_session() # Iniciar sesi\u00f3n simb\u00f3lica"
     ],
     "language": "python",
     "metadata": {},
     "outputs": [
      {
       "output_type": "stream",
       "stream": "stdout",
       "text": [
        "IPython console for SymPy 0.7.4.1 (Python 2.7.6-64-bit) (ground types: python)\n",
        "\n",
        "These commands were executed:\n",
        ">>> from __future__ import division\n",
        ">>> from sympy import *\n",
        ">>> x, y, z, t = symbols('x y z t')\n",
        ">>> k, m, n = symbols('k m n', integer=True)\n",
        ">>> f, g, h = symbols('f g h', cls=Function)\n",
        "\n",
        "Documentation can be found at http://www.sympy.org\n"
       ]
      }
     ],
     "prompt_number": 1
    },
    {
     "cell_type": "markdown",
     "metadata": {},
     "source": [
      "Introducimos una primera expresi\u00f3n simb\u00f3lica (usando las variables x e y):"
     ]
    },
    {
     "cell_type": "code",
     "collapsed": false,
     "input": [
      "1/x + 1/y"
     ],
     "language": "python",
     "metadata": {},
     "outputs": [
      {
       "latex": [
        "$$\\frac{1}{y} + \\frac{1}{x}$$"
       ],
       "metadata": {},
       "output_type": "pyout",
       "png": "[encoded data removed]",
       "prompt_number": 2,
       "text": [
        "1   1\n",
        "\u2500 + \u2500\n",
        "y   x"
       ]
      }
     ],
     "prompt_number": 2
    },
    {
     "cell_type": "markdown",
     "metadata": {},
     "source": [
      "Factorizamos esta expresi\u00f3n. Para ello usamos la funci\u00f3n `factor()` sobre la expresi\u00f3n anterior (que se referencia mediante el operador `_` (gui\u00f3n bajo)). Podemos definir nuevas variables y realizar distinto tipo de operaciones simb\u00f3licas "
     ]
    },
    {
     "cell_type": "code",
     "collapsed": false,
     "input": [
      "factor(_) # El operador _ se\u00f1ala a la salida anterior"
     ],
     "language": "python",
     "metadata": {},
     "outputs": [
      {
       "latex": [
        "$$\\frac{x + y}{x y}$$"
       ],
       "metadata": {},
       "output_type": "pyout",
       "png": "[encoded data removed]",
       "prompt_number": 3,
       "text": [
        "x + y\n",
        "\u2500\u2500\u2500\u2500\u2500\n",
        " x\u22c5y "
       ]
      }
     ],
     "prompt_number": 3
    },
    {
     "cell_type": "code",
     "collapsed": false,
     "input": [
      "cociente = _\n",
      "cociente**3"
     ],
     "language": "python",
     "metadata": {},
     "outputs": [
      {
       "latex": [
        "$$\\frac{\\left(x + y\\right)^{3}}{x^{3} y^{3}}$$"
       ],
       "metadata": {},
       "output_type": "pyout",
       "png": "[encoded data removed]",
       "prompt_number": 4,
       "text": [
        "       3\n",
        "(x + y) \n",
        "\u2500\u2500\u2500\u2500\u2500\u2500\u2500\u2500\n",
        "  3  3  \n",
        " x \u22c5y   "
       ]
      }
     ],
     "prompt_number": 4
    },
    {
     "cell_type": "code",
     "collapsed": false,
     "input": [
      "expand(sqrt(cociente**3))"
     ],
     "language": "python",
     "metadata": {},
     "outputs": [
      {
       "latex": [
        "$$\\sqrt{\\frac{1}{y^{3}} + \\frac{3}{x y^{2}} + \\frac{3}{x^{2} y} + \\frac{1}{x^{3}}}$$"
       ],
       "metadata": {},
       "output_type": "pyout",
       "png": "[encoded data removed]",
       "prompt_number": 5,
       "text": [
        "     _______________________\n",
        "    \u2571 1     3      3     1  \n",
        "   \u2571  \u2500\u2500 + \u2500\u2500\u2500\u2500 + \u2500\u2500\u2500\u2500 + \u2500\u2500 \n",
        "  \u2571    3      2    2      3 \n",
        "\u2572\u2571    y    x\u22c5y    x \u22c5y   x  "
       ]
      }
     ],
     "prompt_number": 5
    },
    {
     "cell_type": "heading",
     "level": 2,
     "metadata": {},
     "source": [
      "Derivadas e integrales simb\u00f3licas"
     ]
    },
    {
     "cell_type": "markdown",
     "metadata": {},
     "source": [
      "A continuaci\u00f3n, definimos una funci\u00f3n y calculamos su derivada:"
     ]
    },
    {
     "cell_type": "code",
     "collapsed": false,
     "input": [
      "def f(x,y): return sin(cociente**5)\n",
      "print \"f(x,y) =\", f(x,y)\n",
      "print \"Derivada parcial respecto a x:\"\n",
      "diff(f(x,y), x) # Derivada respecto a x"
     ],
     "language": "python",
     "metadata": {},
     "outputs": [
      {
       "output_type": "stream",
       "stream": "stdout",
       "text": [
        "f(x,y) = sin((x + y)**5/(x**5*y**5))\n",
        "Derivada parcial respecto a x:\n"
       ]
      },
      {
       "latex": [
        "$$\\left(\\frac{5 \\left(x + y\\right)^{4}}{x^{5} y^{5}} - \\frac{5 \\left(x + y\\right)^{5}}{x^{6} y^{5}}\\right) \\cos{\\left (\\frac{\\left(x + y\\right)^{5}}{x^{5} y^{5}} \\right )}$$"
       ],
       "metadata": {},
       "output_type": "pyout",
       "png": "[encoded data removed]",
       "prompt_number": 6,
       "text": [
        "\u239b         4            5\u239e    \u239b       5\u239e\n",
        "\u239c5\u22c5(x + y)    5\u22c5(x + y) \u239f    \u239c(x + y) \u239f\n",
        "\u239c\u2500\u2500\u2500\u2500\u2500\u2500\u2500\u2500\u2500\u2500 - \u2500\u2500\u2500\u2500\u2500\u2500\u2500\u2500\u2500\u2500\u239f\u22c5cos\u239c\u2500\u2500\u2500\u2500\u2500\u2500\u2500\u2500\u239f\n",
        "\u239c   5  5         6  5   \u239f    \u239c  5  5  \u239f\n",
        "\u239d  x \u22c5y         x \u22c5y    \u23a0    \u239d x \u22c5y   \u23a0"
       ]
      }
     ],
     "prompt_number": 6
    },
    {
     "cell_type": "markdown",
     "metadata": {},
     "source": [
      "Muchas de las funciones simb\u00f3licas est\u00e1n disponibles usando la sintaxis de orientaci\u00f3n a objetos (tambi\u00e9n `factor()` y `dif()`, funciones que vimos antes). Por ejemplo, para tomar $x=\\log(\\pi)$ en la funci\u00f3n anterior (sustituir $x$ por $\\log(\\pi)$) podemos usar la funci\u00f3n `subs()`:"
     ]
    },
    {
     "cell_type": "code",
     "collapsed": false,
     "input": [
      "f(x,y).subs(x,log(pi))"
     ],
     "language": "python",
     "metadata": {},
     "outputs": [
      {
       "latex": [
        "$$\\sin{\\left (\\frac{\\left(y + \\log{\\left (\\pi \\right )}\\right)^{5}}{y^{5} \\log^{5}{\\left (\\pi \\right )}} \\right )}$$"
       ],
       "metadata": {},
       "output_type": "pyout",
       "png": "[encoded data removed]",
       "prompt_number": 7,
       "text": [
        "   \u239b            5\u239e\n",
        "   \u239c(y + log(\u03c0)) \u239f\n",
        "sin\u239c\u2500\u2500\u2500\u2500\u2500\u2500\u2500\u2500\u2500\u2500\u2500\u2500\u2500\u239f\n",
        "   \u239c   5    5    \u239f\n",
        "   \u239d  y \u22c5log (\u03c0) \u23a0"
       ]
      }
     ],
     "prompt_number": 7
    },
    {
     "cell_type": "markdown",
     "metadata": {},
     "source": [
      "V\u00e9ase que la variable `pi` ha cambiado y ahora es simb\u00f3lica. Tambi\u00e9n las funciones habituales (como `log()`, `sin()`, `cos()`, etc.) son ahora simb\u00f3licas:"
     ]
    },
    {
     "cell_type": "code",
     "collapsed": false,
     "input": [
      "cos(1+1)"
     ],
     "language": "python",
     "metadata": {},
     "outputs": [
      {
       "latex": [
        "$$\\cos{\\left (2 \\right )}$$"
       ],
       "metadata": {},
       "output_type": "pyout",
       "png": "[encoded data removed]",
       "prompt_number": 8,
       "text": [
        "cos(2)"
       ]
      }
     ],
     "prompt_number": 8
    },
    {
     "cell_type": "markdown",
     "metadata": {},
     "source": [
      "Podemos calcular integrales simb\u00f3licas f\u00e1cilmente:"
     ]
    },
    {
     "cell_type": "code",
     "collapsed": false,
     "input": [
      "integrate(x*E**(x**2),x) # En simb\u00f3lico, el n\u00famero e se escribe con may\u00fasculas."
     ],
     "language": "python",
     "metadata": {},
     "outputs": [
      {
       "latex": [
        "$$\\frac{e^{x^{2}}}{2}$$"
       ],
       "metadata": {},
       "output_type": "pyout",
       "png": "[encoded data removed]",
       "prompt_number": 19,
       "text": [
        " \u239b 2\u239e\n",
        " \u239dx \u23a0\n",
        "\u212f    \n",
        "\u2500\u2500\u2500\u2500\u2500\n",
        "  2  "
       ]
      }
     ],
     "prompt_number": 19
    },
    {
     "cell_type": "markdown",
     "metadata": {},
     "source": [
      "Por \u00faltimo: la funci\u00f3n `plot()` es actualizada por el paquete `SymPy` y act\u00faa de de forma diferente a la funci\u00f3n habtual (contenida en el paquete `matplotlib`, que suele ser cargado autom\u00e1ticamente por *Ipython Notebook*). Un ejemplo:"
     ]
    },
    {
     "cell_type": "code",
     "collapsed": false,
     "input": [
      "plot(x**2*cos(1/x), (x, -pi/4, pi/4))"
     ],
     "language": "python",
     "metadata": {},
     "outputs": [
      {
       "metadata": {},
       "output_type": "pyout",
       "prompt_number": 9,
       "text": [
        "<sympy.plotting.plot.Plot at 0x7f61fa324910>"
       ]
      }
     ],
     "prompt_number": 9
    },
    {
     "cell_type": "markdown",
     "metadata": {},
     "source": [
      "### Para saber m\u00e1s,\n",
      "v\u00e9ase el [tutorial de SymPy](http://docs.sympy.org/latest/tutorial/index.html) (o [documentaci\u00f3n adicional](http://docs.sympy.org/latest/index.html) disponible en internet)."
     ]
    }
   ],
   "metadata": {}
  }
 ]
}